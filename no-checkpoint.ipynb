{
 "cells": [
  {
   "cell_type": "code",
   "execution_count": null,
   "id": "dfa58bc3",
   "metadata": {},
   "outputs": [
    {
     "name": "stdout",
     "output_type": "stream",
     "text": [
      "positive\n"
     ]
    }
   ],
   "source": [
    "#code to check a number is positive negative or zero\n",
    "number = 5\n",
    "if number>0:\n",
    "    print(\"positive\")\n",
    "elif number<0: \n",
    "    print(\"negative\")\n",
    "else:\n",
    "    print(\"zero\")"
   ]
  },
  {
   "cell_type": "code",
   "execution_count": null,
   "id": "271eaa14",
   "metadata": {},
   "outputs": [
    {
     "name": "stdout",
     "output_type": "stream",
     "text": [
      "leap year\n"
     ]
    }
   ],
   "source": [
    "#leap year\n",
    "year = 2016\n",
    "\n",
    "if (year%4== 0):\n",
    " if (year%100 == 0):\n",
    "  if (year%400 == 0):\n",
    "           print (\"leap year\")\n",
    "  else:\n",
    "      print(\"not a leap year\")\n",
    " else:\n",
    "  print(\"leap year\")\n",
    "else:\n",
    " print(\"not a leap year\")\n",
    "\n",
    "\n"
   ]
  },
  {
   "cell_type": "code",
   "execution_count": null,
   "id": "50602c20",
   "metadata": {},
   "outputs": [
    {
     "name": "stdout",
     "output_type": "stream",
     "text": [
      "number2 is greater\n"
     ]
    }
   ],
   "source": [
    "# Greatest of two number\n",
    "number1 = 24\n",
    "number2 = 46\n",
    "if(number1>number2):\n",
    " print(\"number1 is greater\")\n",
    "else:\n",
    " print(\"number2 is greater\")\n",
    "\n"
   ]
  },
  {
   "cell_type": "code",
   "execution_count": null,
   "id": "4bd7909a",
   "metadata": {},
   "outputs": [
    {
     "name": "stdout",
     "output_type": "stream",
     "text": [
      "num2 is greatest\n"
     ]
    }
   ],
   "source": [
    "# greatest of three numbers\n",
    "num1 = 22\n",
    "num2 = 55\n",
    "num3 = 26\n",
    "\n",
    "if(num1>num2):\n",
    "    if(num1>num3):\n",
    "        print(\"num1 is greatest\")\n",
    "else:\n",
    "    (\"num3 is greatest\")\n",
    "    if(num2>num3):\n",
    "        print(\"num2 is greatest\")\n",
    "    else:\n",
    "        print(\"num3 is greatest\")\n",
    " \n"
   ]
  },
  {
   "cell_type": "code",
   "execution_count": null,
   "id": "2a93faf8",
   "metadata": {},
   "outputs": [
    {
     "name": "stdout",
     "output_type": "stream",
     "text": [
      "b is greatest\n"
     ]
    }
   ],
   "source": [
    "a = int(input('Enter the value of a '))\n",
    "b = int(input('Enter the value of b '))\n",
    "c = int(input('Enter the value of c '))\n",
    "\n",
    "if(a>b and a>c):\n",
    "    print(\"a is greatest\")\n",
    "elif(b>a and b>c):\n",
    " print(\"b is greatest\")\n",
    "        \n",
    "else:\n",
    "    print(\"c is greatest\")\n"
   ]
  },
  {
   "cell_type": "code",
   "execution_count": null,
   "id": "e390df53",
   "metadata": {},
   "outputs": [
    {
     "name": "stdout",
     "output_type": "stream",
     "text": [
      "Grade A\n"
     ]
    }
   ],
   "source": [
    "# Student grade system\n",
    "Grade = 90\n",
    "if(Grade>=90):\n",
    "    print(\"Grade A\")\n",
    "elif(Grade<90):\n",
    "          print(\"Grade B\")\n",
    "elif(Grade<75):\n",
    "            print(\"Grade C\")\n",
    "elif(Grade<60):\n",
    "                print(\"Grade D\")\n",
    "else:\n",
    " (Grade<33)\n",
    " print(\"Fail\")\n"
   ]
  },
  {
   "cell_type": "code",
   "execution_count": null,
   "id": "e27afd99",
   "metadata": {},
   "outputs": [
    {
     "name": "stdout",
     "output_type": "stream",
     "text": [
      "1\n",
      "3\n",
      "5\n",
      "7\n",
      "9\n"
     ]
    }
   ],
   "source": [
    "'''For loop :- Start, stop, step\n",
    "\n",
    " Start = starting point of the loop iteration\n",
    " stop = Stopping point of loop works till n-1 always\n",
    " step = adds value to the start point what ever is given if step = 2 (n+2) '''\n",
    "\n",
    "for i in range(1,10,2):\n",
    "    print(i)"
   ]
  },
  {
   "cell_type": "code",
   "execution_count": null,
   "id": "ecd4932a",
   "metadata": {},
   "outputs": [
    {
     "name": "stdout",
     "output_type": "stream",
     "text": [
      " * \n",
      " *  * \n",
      " *  *  * \n",
      " *  *  *  * \n",
      " *  *  *  *  * \n"
     ]
    }
   ],
   "source": [
    "#printing pattern *\n",
    " #                * *\n",
    "  #               * * *\n",
    "  #               * * * *\n",
    "  #               * * * * *\n",
    "#code\n",
    "\n",
    "for i in range(1,6):\n",
    "    print(' * '*i)"
   ]
  },
  {
   "cell_type": "code",
   "execution_count": null,
   "id": "418d7432",
   "metadata": {},
   "outputs": [
    {
     "name": "stdout",
     "output_type": "stream",
     "text": [
      "                 * \n",
      "              *  * \n",
      "           *  *  * \n",
      "        *  *  *  * \n",
      "     *  *  *  *  * \n"
     ]
    }
   ],
   "source": [
    "# printing above pattern in reverse\n",
    "s = 5\n",
    "for i in range(1,6):\n",
    "    print('   '*s, ' * '*i)\n",
    "    s = s-1"
   ]
  },
  {
   "cell_type": "code",
   "execution_count": null,
   "id": "e35de76a",
   "metadata": {},
   "outputs": [
    {
     "name": "stdout",
     "output_type": "stream",
     "text": [
      "            *\n",
      "          * * *\n",
      "        * * * * *\n",
      "      * * * * * * *\n",
      "    * * * * * * * * *\n"
     ]
    }
   ],
   "source": [
    "'''     *\n",
    "      * * *\n",
    "    * * * * *\n",
    "  * * * * * * *\n",
    "* * * * * * * * * '''\n",
    "s = 5\n",
    "for i in range(1,10,2):\n",
    "    print('  '*s, ' *'*i)\n",
    "    s= s-1"
   ]
  },
  {
   "cell_type": "code",
   "execution_count": null,
   "id": "231db493",
   "metadata": {},
   "outputs": [
    {
     "name": "stdout",
     "output_type": "stream",
     "text": [
      " *********\n",
      " **********\n",
      " ***********\n",
      " ************\n",
      " *************\n",
      " **************\n",
      " ***************\n",
      " ****************\n",
      " *****************\n",
      " ******************\n"
     ]
    }
   ],
   "source": [
    "z = 0\n",
    "for i in range(9,1,-2):\n",
    "    print(''*z, '*'*i)\n",
    "    z= z+1"
   ]
  },
  {
   "cell_type": "code",
   "execution_count": null,
   "id": "6133ccff",
   "metadata": {},
   "outputs": [
    {
     "name": "stdout",
     "output_type": "stream",
     "text": [
      "1\n",
      "12\n",
      "123\n",
      "1234\n",
      "12345\n"
     ]
    }
   ],
   "source": [
    "for i in range(1,6):\n",
    "    for j in range(1,i+1):\n",
    "       print(j,end ='')\n",
    "    print()"
   ]
  },
  {
   "cell_type": "code",
   "execution_count": null,
   "id": "45dd7038",
   "metadata": {},
   "outputs": [
    {
     "name": "stdout",
     "output_type": "stream",
     "text": [
      "\n",
      "\n",
      "1\n",
      "12\n",
      "123\n"
     ]
    }
   ],
   "source": [
    "for i in range(1,6):\n",
    "    for j in range(1,i-10):\n",
    "       print(j,end ='')\n",
    "    print()"
   ]
  }
 ],
 "metadata": {
  "kernelspec": {
   "display_name": "base",
   "language": "python",
   "name": "python3"
  },
  "language_info": {
   "codemirror_mode": {
    "name": "ipython",
    "version": 3
   },
   "file_extension": ".py",
   "mimetype": "text/x-python",
   "name": "python",
   "nbconvert_exporter": "python",
   "pygments_lexer": "ipython3",
   "version": "3.13.5"
  }
 },
 "nbformat": 4,
 "nbformat_minor": 5
}
